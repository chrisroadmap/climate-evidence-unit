{
 "cells": [
  {
   "cell_type": "markdown",
   "id": "0",
   "metadata": {},
   "source": [
    "# C1a scenarios for Europe\n",
    "\n",
    "Plot to show that no C1a scenarios (1.5C with no or no overshoot and net zero GHGs in the second half of the century) achieve net zero GHG emissions in Europe in 2050.\n",
    "\n",
    "Data downloaded by selecting C1a in category sub-label from the IPCC AR6 scenario database"
   ]
  },
  {
   "cell_type": "code",
   "execution_count": null,
   "id": "1",
   "metadata": {},
   "outputs": [],
   "source": [
    "import os\n",
    "\n",
    "import numpy as np\n",
    "import pandas as pd\n",
    "import matplotlib.pyplot as pl\n",
    "from scipy.interpolate import interp1d"
   ]
  },
  {
   "cell_type": "code",
   "execution_count": null,
   "id": "2",
   "metadata": {},
   "outputs": [],
   "source": [
    "pl.style.use('../defaults.mplstyle')"
   ]
  },
  {
   "cell_type": "code",
   "execution_count": null,
   "id": "3",
   "metadata": {},
   "outputs": [],
   "source": [
    "df = pd.read_csv('../data/ar6_snapshot_1710515101.csv', skipfooter=1)"
   ]
  },
  {
   "cell_type": "code",
   "execution_count": null,
   "id": "4",
   "metadata": {},
   "outputs": [],
   "source": [
    "data = df.loc[:,'2010':].values#.interpolate(axis=1)"
   ]
  },
  {
   "cell_type": "code",
   "execution_count": null,
   "id": "5",
   "metadata": {},
   "outputs": [],
   "source": [
    "data_out = np.zeros_like(data)\n",
    "for irow, row in enumerate(data):\n",
    "    #f = interp1d(np.arange(2010, 2105, 5), row)\n",
    "    #data_out[irow, :] = f(np.arange(2010, 2105, 5))\n",
    "    data_out[irow, :] = pd.Series(row).interpolate().tolist()"
   ]
  },
  {
   "cell_type": "code",
   "execution_count": null,
   "id": "6",
   "metadata": {},
   "outputs": [],
   "source": [
    "fig, ax=pl.subplots(figsize=(17/2.54, 6/2.54))\n",
    "pl.plot(np.arange(2010, 2105, 5), data_out.T/1000, color='#3709ab');\n",
    "pl.xlim(2010, 2100)\n",
    "pl.ylim(-1,6)\n",
    "pl.axhline(0, ls=':', color='k', lw=1)\n",
    "pl.axvline(2050, ls=':', color='k', lw=1)\n",
    "pl.ylabel('Emissions, GtCO2-eq/yr')\n",
    "pl.title('European Kyoto greenhouse gas emissions, IPCC Paris Agreement compatible scenarios')\n",
    "\n",
    "os.makedirs('../plots', exist_ok=True)\n",
    "pl.savefig('../plots/europe-c1a-ghg.png')"
   ]
  }
 ],
 "metadata": {
  "kernelspec": {
   "display_name": "Python 3 (ipykernel)",
   "language": "python",
   "name": "python3"
  },
  "language_info": {
   "codemirror_mode": {
    "name": "ipython",
    "version": 3
   },
   "file_extension": ".py",
   "mimetype": "text/x-python",
   "name": "python",
   "nbconvert_exporter": "python",
   "pygments_lexer": "ipython3",
   "version": "3.11.0"
  }
 },
 "nbformat": 4,
 "nbformat_minor": 5
}
